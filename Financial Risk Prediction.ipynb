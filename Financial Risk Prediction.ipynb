{
 "cells": [
  {
   "cell_type": "code",
   "execution_count": 1,
   "metadata": {},
   "outputs": [],
   "source": [
    "import pandas as pd\n",
    "import numpy as np"
   ]
  },
  {
   "cell_type": "code",
   "execution_count": 58,
   "metadata": {},
   "outputs": [],
   "source": [
    "train=pd.read_csv('Train.csv')\n",
    "test=pd.read_csv('Test.csv')"
   ]
  },
  {
   "cell_type": "code",
   "execution_count": 59,
   "metadata": {},
   "outputs": [
    {
     "data": {
      "text/html": [
       "<div>\n",
       "<style scoped>\n",
       "    .dataframe tbody tr th:only-of-type {\n",
       "        vertical-align: middle;\n",
       "    }\n",
       "\n",
       "    .dataframe tbody tr th {\n",
       "        vertical-align: top;\n",
       "    }\n",
       "\n",
       "    .dataframe thead th {\n",
       "        text-align: right;\n",
       "    }\n",
       "</style>\n",
       "<table border=\"1\" class=\"dataframe\">\n",
       "  <thead>\n",
       "    <tr style=\"text-align: right;\">\n",
       "      <th></th>\n",
       "      <th>City</th>\n",
       "      <th>Location_Score</th>\n",
       "      <th>Internal_Audit_Score</th>\n",
       "      <th>External_Audit_Score</th>\n",
       "      <th>Fin_Score</th>\n",
       "      <th>Loss_score</th>\n",
       "      <th>Past_Results</th>\n",
       "      <th>IsUnderRisk</th>\n",
       "    </tr>\n",
       "  </thead>\n",
       "  <tbody>\n",
       "    <tr>\n",
       "      <th>0</th>\n",
       "      <td>2</td>\n",
       "      <td>8.032</td>\n",
       "      <td>14</td>\n",
       "      <td>8</td>\n",
       "      <td>3</td>\n",
       "      <td>6</td>\n",
       "      <td>0</td>\n",
       "      <td>1</td>\n",
       "    </tr>\n",
       "    <tr>\n",
       "      <th>1</th>\n",
       "      <td>31</td>\n",
       "      <td>77.730</td>\n",
       "      <td>8</td>\n",
       "      <td>3</td>\n",
       "      <td>3</td>\n",
       "      <td>8</td>\n",
       "      <td>1</td>\n",
       "      <td>0</td>\n",
       "    </tr>\n",
       "    <tr>\n",
       "      <th>2</th>\n",
       "      <td>40</td>\n",
       "      <td>59.203</td>\n",
       "      <td>3</td>\n",
       "      <td>12</td>\n",
       "      <td>11</td>\n",
       "      <td>3</td>\n",
       "      <td>0</td>\n",
       "      <td>1</td>\n",
       "    </tr>\n",
       "    <tr>\n",
       "      <th>3</th>\n",
       "      <td>12</td>\n",
       "      <td>73.080</td>\n",
       "      <td>4</td>\n",
       "      <td>5</td>\n",
       "      <td>7</td>\n",
       "      <td>6</td>\n",
       "      <td>0</td>\n",
       "      <td>0</td>\n",
       "    </tr>\n",
       "    <tr>\n",
       "      <th>4</th>\n",
       "      <td>4</td>\n",
       "      <td>15.666</td>\n",
       "      <td>13</td>\n",
       "      <td>15</td>\n",
       "      <td>6</td>\n",
       "      <td>7</td>\n",
       "      <td>2</td>\n",
       "      <td>1</td>\n",
       "    </tr>\n",
       "  </tbody>\n",
       "</table>\n",
       "</div>"
      ],
      "text/plain": [
       "   City  Location_Score  Internal_Audit_Score  External_Audit_Score  \\\n",
       "0     2           8.032                    14                     8   \n",
       "1    31          77.730                     8                     3   \n",
       "2    40          59.203                     3                    12   \n",
       "3    12          73.080                     4                     5   \n",
       "4     4          15.666                    13                    15   \n",
       "\n",
       "   Fin_Score  Loss_score  Past_Results  IsUnderRisk  \n",
       "0          3           6             0            1  \n",
       "1          3           8             1            0  \n",
       "2         11           3             0            1  \n",
       "3          7           6             0            0  \n",
       "4          6           7             2            1  "
      ]
     },
     "execution_count": 59,
     "metadata": {},
     "output_type": "execute_result"
    }
   ],
   "source": [
    "train.head()"
   ]
  },
  {
   "cell_type": "code",
   "execution_count": 60,
   "metadata": {},
   "outputs": [
    {
     "data": {
      "text/html": [
       "<div>\n",
       "<style scoped>\n",
       "    .dataframe tbody tr th:only-of-type {\n",
       "        vertical-align: middle;\n",
       "    }\n",
       "\n",
       "    .dataframe tbody tr th {\n",
       "        vertical-align: top;\n",
       "    }\n",
       "\n",
       "    .dataframe thead th {\n",
       "        text-align: right;\n",
       "    }\n",
       "</style>\n",
       "<table border=\"1\" class=\"dataframe\">\n",
       "  <thead>\n",
       "    <tr style=\"text-align: right;\">\n",
       "      <th></th>\n",
       "      <th>City</th>\n",
       "      <th>Location_Score</th>\n",
       "      <th>Internal_Audit_Score</th>\n",
       "      <th>External_Audit_Score</th>\n",
       "      <th>Fin_Score</th>\n",
       "      <th>Loss_score</th>\n",
       "      <th>Past_Results</th>\n",
       "    </tr>\n",
       "  </thead>\n",
       "  <tbody>\n",
       "    <tr>\n",
       "      <th>0</th>\n",
       "      <td>41</td>\n",
       "      <td>18.272</td>\n",
       "      <td>13</td>\n",
       "      <td>12</td>\n",
       "      <td>9</td>\n",
       "      <td>7</td>\n",
       "      <td>0</td>\n",
       "    </tr>\n",
       "    <tr>\n",
       "      <th>1</th>\n",
       "      <td>17</td>\n",
       "      <td>64.799</td>\n",
       "      <td>6</td>\n",
       "      <td>10</td>\n",
       "      <td>7</td>\n",
       "      <td>4</td>\n",
       "      <td>1</td>\n",
       "    </tr>\n",
       "    <tr>\n",
       "      <th>2</th>\n",
       "      <td>31</td>\n",
       "      <td>68.890</td>\n",
       "      <td>3</td>\n",
       "      <td>3</td>\n",
       "      <td>7</td>\n",
       "      <td>8</td>\n",
       "      <td>0</td>\n",
       "    </tr>\n",
       "    <tr>\n",
       "      <th>3</th>\n",
       "      <td>3</td>\n",
       "      <td>16.492</td>\n",
       "      <td>15</td>\n",
       "      <td>10</td>\n",
       "      <td>7</td>\n",
       "      <td>4</td>\n",
       "      <td>1</td>\n",
       "    </tr>\n",
       "    <tr>\n",
       "      <th>4</th>\n",
       "      <td>9</td>\n",
       "      <td>17.178</td>\n",
       "      <td>7</td>\n",
       "      <td>3</td>\n",
       "      <td>8</td>\n",
       "      <td>3</td>\n",
       "      <td>1</td>\n",
       "    </tr>\n",
       "  </tbody>\n",
       "</table>\n",
       "</div>"
      ],
      "text/plain": [
       "   City  Location_Score  Internal_Audit_Score  External_Audit_Score  \\\n",
       "0    41          18.272                    13                    12   \n",
       "1    17          64.799                     6                    10   \n",
       "2    31          68.890                     3                     3   \n",
       "3     3          16.492                    15                    10   \n",
       "4     9          17.178                     7                     3   \n",
       "\n",
       "   Fin_Score  Loss_score  Past_Results  \n",
       "0          9           7             0  \n",
       "1          7           4             1  \n",
       "2          7           8             0  \n",
       "3          7           4             1  \n",
       "4          8           3             1  "
      ]
     },
     "execution_count": 60,
     "metadata": {},
     "output_type": "execute_result"
    }
   ],
   "source": [
    "test.head()"
   ]
  },
  {
   "cell_type": "code",
   "execution_count": 61,
   "metadata": {},
   "outputs": [
    {
     "data": {
      "text/html": [
       "<div>\n",
       "<style scoped>\n",
       "    .dataframe tbody tr th:only-of-type {\n",
       "        vertical-align: middle;\n",
       "    }\n",
       "\n",
       "    .dataframe tbody tr th {\n",
       "        vertical-align: top;\n",
       "    }\n",
       "\n",
       "    .dataframe thead th {\n",
       "        text-align: right;\n",
       "    }\n",
       "</style>\n",
       "<table border=\"1\" class=\"dataframe\">\n",
       "  <thead>\n",
       "    <tr style=\"text-align: right;\">\n",
       "      <th></th>\n",
       "      <th>City</th>\n",
       "      <th>Location_Score</th>\n",
       "      <th>Internal_Audit_Score</th>\n",
       "      <th>External_Audit_Score</th>\n",
       "      <th>Fin_Score</th>\n",
       "      <th>Loss_score</th>\n",
       "      <th>Past_Results</th>\n",
       "      <th>IsUnderRisk</th>\n",
       "    </tr>\n",
       "  </thead>\n",
       "  <tbody>\n",
       "    <tr>\n",
       "      <th>count</th>\n",
       "      <td>543.000000</td>\n",
       "      <td>543.000000</td>\n",
       "      <td>543.000000</td>\n",
       "      <td>543.000000</td>\n",
       "      <td>543.000000</td>\n",
       "      <td>543.000000</td>\n",
       "      <td>543.000000</td>\n",
       "      <td>543.000000</td>\n",
       "    </tr>\n",
       "    <tr>\n",
       "      <th>mean</th>\n",
       "      <td>19.576427</td>\n",
       "      <td>32.259346</td>\n",
       "      <td>8.189687</td>\n",
       "      <td>7.327808</td>\n",
       "      <td>7.046041</td>\n",
       "      <td>5.530387</td>\n",
       "      <td>0.613260</td>\n",
       "      <td>0.626151</td>\n",
       "    </tr>\n",
       "    <tr>\n",
       "      <th>std</th>\n",
       "      <td>14.722687</td>\n",
       "      <td>24.887291</td>\n",
       "      <td>3.312022</td>\n",
       "      <td>3.450667</td>\n",
       "      <td>3.156978</td>\n",
       "      <td>1.839124</td>\n",
       "      <td>0.764509</td>\n",
       "      <td>0.484270</td>\n",
       "    </tr>\n",
       "    <tr>\n",
       "      <th>min</th>\n",
       "      <td>0.000000</td>\n",
       "      <td>5.185000</td>\n",
       "      <td>3.000000</td>\n",
       "      <td>3.000000</td>\n",
       "      <td>3.000000</td>\n",
       "      <td>3.000000</td>\n",
       "      <td>0.000000</td>\n",
       "      <td>0.000000</td>\n",
       "    </tr>\n",
       "    <tr>\n",
       "      <th>25%</th>\n",
       "      <td>6.000000</td>\n",
       "      <td>13.565000</td>\n",
       "      <td>6.000000</td>\n",
       "      <td>5.000000</td>\n",
       "      <td>5.000000</td>\n",
       "      <td>4.000000</td>\n",
       "      <td>0.000000</td>\n",
       "      <td>0.000000</td>\n",
       "    </tr>\n",
       "    <tr>\n",
       "      <th>50%</th>\n",
       "      <td>14.000000</td>\n",
       "      <td>19.803000</td>\n",
       "      <td>8.000000</td>\n",
       "      <td>7.000000</td>\n",
       "      <td>7.000000</td>\n",
       "      <td>6.000000</td>\n",
       "      <td>1.000000</td>\n",
       "      <td>1.000000</td>\n",
       "    </tr>\n",
       "    <tr>\n",
       "      <th>75%</th>\n",
       "      <td>37.000000</td>\n",
       "      <td>62.594000</td>\n",
       "      <td>11.000000</td>\n",
       "      <td>10.000000</td>\n",
       "      <td>8.000000</td>\n",
       "      <td>7.000000</td>\n",
       "      <td>1.000000</td>\n",
       "      <td>1.000000</td>\n",
       "    </tr>\n",
       "    <tr>\n",
       "      <th>max</th>\n",
       "      <td>44.000000</td>\n",
       "      <td>80.809000</td>\n",
       "      <td>15.000000</td>\n",
       "      <td>15.000000</td>\n",
       "      <td>15.000000</td>\n",
       "      <td>13.000000</td>\n",
       "      <td>10.000000</td>\n",
       "      <td>1.000000</td>\n",
       "    </tr>\n",
       "  </tbody>\n",
       "</table>\n",
       "</div>"
      ],
      "text/plain": [
       "             City  Location_Score  Internal_Audit_Score  External_Audit_Score  \\\n",
       "count  543.000000      543.000000            543.000000            543.000000   \n",
       "mean    19.576427       32.259346              8.189687              7.327808   \n",
       "std     14.722687       24.887291              3.312022              3.450667   \n",
       "min      0.000000        5.185000              3.000000              3.000000   \n",
       "25%      6.000000       13.565000              6.000000              5.000000   \n",
       "50%     14.000000       19.803000              8.000000              7.000000   \n",
       "75%     37.000000       62.594000             11.000000             10.000000   \n",
       "max     44.000000       80.809000             15.000000             15.000000   \n",
       "\n",
       "        Fin_Score  Loss_score  Past_Results  IsUnderRisk  \n",
       "count  543.000000  543.000000    543.000000   543.000000  \n",
       "mean     7.046041    5.530387      0.613260     0.626151  \n",
       "std      3.156978    1.839124      0.764509     0.484270  \n",
       "min      3.000000    3.000000      0.000000     0.000000  \n",
       "25%      5.000000    4.000000      0.000000     0.000000  \n",
       "50%      7.000000    6.000000      1.000000     1.000000  \n",
       "75%      8.000000    7.000000      1.000000     1.000000  \n",
       "max     15.000000   13.000000     10.000000     1.000000  "
      ]
     },
     "execution_count": 61,
     "metadata": {},
     "output_type": "execute_result"
    }
   ],
   "source": [
    "train.describe()"
   ]
  },
  {
   "cell_type": "code",
   "execution_count": 62,
   "metadata": {},
   "outputs": [
    {
     "data": {
      "text/plain": [
       "City                    0\n",
       "Location_Score          0\n",
       "Internal_Audit_Score    0\n",
       "External_Audit_Score    0\n",
       "Fin_Score               0\n",
       "Loss_score              0\n",
       "Past_Results            0\n",
       "dtype: int64"
      ]
     },
     "execution_count": 62,
     "metadata": {},
     "output_type": "execute_result"
    }
   ],
   "source": [
    "test.isnull().sum()"
   ]
  },
  {
   "cell_type": "code",
   "execution_count": 63,
   "metadata": {},
   "outputs": [
    {
     "data": {
      "text/plain": [
       "1    340\n",
       "0    203\n",
       "Name: IsUnderRisk, dtype: int64"
      ]
     },
     "execution_count": 63,
     "metadata": {},
     "output_type": "execute_result"
    }
   ],
   "source": [
    "train['IsUnderRisk'].value_counts()"
   ]
  },
  {
   "cell_type": "code",
   "execution_count": 64,
   "metadata": {},
   "outputs": [],
   "source": [
    "from sklearn import preprocessing\n",
    "lbl_enc = preprocessing.LabelEncoder()\n",
    "y = lbl_enc.fit_transform(train.IsUnderRisk.values)"
   ]
  },
  {
   "cell_type": "code",
   "execution_count": 65,
   "metadata": {},
   "outputs": [],
   "source": [
    "train.drop('IsUnderRisk',axis=1,inplace=True)"
   ]
  },
  {
   "cell_type": "code",
   "execution_count": 67,
   "metadata": {},
   "outputs": [],
   "source": [
    "from sklearn.preprocessing import StandardScaler\n",
    "sc=StandardScaler()\n",
    "train=sc.fit_transform(train)\n",
    "test=sc.fit_transform(test)"
   ]
  },
  {
   "cell_type": "code",
   "execution_count": 68,
   "metadata": {},
   "outputs": [
    {
     "data": {
      "text/plain": [
       "array([[-1.19493362, -0.97438028,  1.75592772, ..., -1.28279992,\n",
       "         0.2555816 , -0.80290162],\n",
       "       [ 0.77663173,  1.82874789, -0.05732506, ..., -1.28279992,\n",
       "         1.34405853,  0.50633436],\n",
       "       [ 1.38849684,  1.08362528, -1.56836904, ...,  1.25360556,\n",
       "        -1.37713379, -0.80290162],\n",
       "       ...,\n",
       "       [-1.26291864,  1.88959803, -0.35953385, ..., -1.28279992,\n",
       "         1.34405853,  0.50633436],\n",
       "       [ 1.38849684,  1.48327355, -0.35953385, ..., -0.96574923,\n",
       "        -0.28865686,  0.50633436],\n",
       "       [-0.44709849, -0.3590418 ,  1.75592772, ...,  0.93655488,\n",
       "        -1.37713379,  1.81557034]])"
      ]
     },
     "execution_count": 68,
     "metadata": {},
     "output_type": "execute_result"
    }
   ],
   "source": [
    "train"
   ]
  },
  {
   "cell_type": "code",
   "execution_count": 69,
   "metadata": {},
   "outputs": [],
   "source": [
    "from sklearn.model_selection import train_test_split"
   ]
  },
  {
   "cell_type": "code",
   "execution_count": 70,
   "metadata": {},
   "outputs": [],
   "source": [
    "x_train,x_cv,y_train,y_cv=train_test_split(train,y,test_size=0.10,random_state=1234)"
   ]
  },
  {
   "cell_type": "code",
   "execution_count": 71,
   "metadata": {},
   "outputs": [
    {
     "data": {
      "text/plain": [
       "array([[-1.12694861, -0.99115127,  1.45371893, ..., -1.28279992,\n",
       "         1.34405853,  0.50633436],\n",
       "       [ 0.23275164,  1.60618037,  0.24488374, ..., -0.96574923,\n",
       "         0.79982006, -0.80290162],\n",
       "       [-0.44709849, -0.81008893,  0.84930133, ...,  1.25360556,\n",
       "         0.79982006,  0.50633436],\n",
       "       ...,\n",
       "       [ 1.18454181, -0.36495388, -0.66174265, ..., -0.64869855,\n",
       "        -0.28865686,  0.50633436],\n",
       "       [ 1.38849684, -0.61273822,  1.15151013, ..., -0.01459718,\n",
       "        -0.28865686,  0.50633436],\n",
       "       [ 0.77663173, -0.97566726, -0.96395145, ..., -0.01459718,\n",
       "        -1.37713379, -0.80290162]])"
      ]
     },
     "execution_count": 71,
     "metadata": {},
     "output_type": "execute_result"
    }
   ],
   "source": [
    "x_train"
   ]
  },
  {
   "cell_type": "code",
   "execution_count": 72,
   "metadata": {},
   "outputs": [],
   "source": [
    "from sklearn.linear_model import LogisticRegression\n",
    "lc=LogisticRegression()\n",
    "lc.fit(x_train,y_train)\n",
    "lc_cv_pred=lc.predict_proba(x_cv)"
   ]
  },
  {
   "cell_type": "code",
   "execution_count": 73,
   "metadata": {},
   "outputs": [],
   "source": [
    "from sklearn.metrics import log_loss"
   ]
  },
  {
   "cell_type": "code",
   "execution_count": 125,
   "metadata": {},
   "outputs": [
    {
     "name": "stdout",
     "output_type": "stream",
     "text": [
      "0.34588305241180123\n"
     ]
    }
   ],
   "source": [
    "print(log_loss(y_cv,lc_cv_pred))"
   ]
  },
  {
   "cell_type": "code",
   "execution_count": 126,
   "metadata": {},
   "outputs": [],
   "source": [
    "lc_pred=lc.predict_proba(test)"
   ]
  },
  {
   "cell_type": "code",
   "execution_count": 108,
   "metadata": {},
   "outputs": [],
   "source": [
    "from lightgbm import LGBMClassifier\n",
    "lgb=LGBMClassifier(boosting_type='gbdt',max_depth=10)\n",
    "lgb.fit(x_train,y_train)\n",
    "lgb_cv_pred=lgb.predict_proba(x_cv)"
   ]
  },
  {
   "cell_type": "code",
   "execution_count": 109,
   "metadata": {},
   "outputs": [
    {
     "name": "stdout",
     "output_type": "stream",
     "text": [
      "0.32319608687800466\n"
     ]
    }
   ],
   "source": [
    "print(log_loss(y_cv,lgb_cv_pred))"
   ]
  },
  {
   "cell_type": "code",
   "execution_count": 110,
   "metadata": {},
   "outputs": [],
   "source": [
    "lgb_pred=lgb.predict_proba(test)"
   ]
  },
  {
   "cell_type": "code",
   "execution_count": 111,
   "metadata": {},
   "outputs": [],
   "source": [
    "sample=pd.DataFrame(lgb_pred)"
   ]
  },
  {
   "cell_type": "code",
   "execution_count": 112,
   "metadata": {},
   "outputs": [
    {
     "data": {
      "text/html": [
       "<div>\n",
       "<style scoped>\n",
       "    .dataframe tbody tr th:only-of-type {\n",
       "        vertical-align: middle;\n",
       "    }\n",
       "\n",
       "    .dataframe tbody tr th {\n",
       "        vertical-align: top;\n",
       "    }\n",
       "\n",
       "    .dataframe thead th {\n",
       "        text-align: right;\n",
       "    }\n",
       "</style>\n",
       "<table border=\"1\" class=\"dataframe\">\n",
       "  <thead>\n",
       "    <tr style=\"text-align: right;\">\n",
       "      <th></th>\n",
       "      <th>0</th>\n",
       "      <th>1</th>\n",
       "    </tr>\n",
       "  </thead>\n",
       "  <tbody>\n",
       "    <tr>\n",
       "      <th>0</th>\n",
       "      <td>0.000108</td>\n",
       "      <td>0.999892</td>\n",
       "    </tr>\n",
       "    <tr>\n",
       "      <th>1</th>\n",
       "      <td>0.010539</td>\n",
       "      <td>0.989461</td>\n",
       "    </tr>\n",
       "    <tr>\n",
       "      <th>2</th>\n",
       "      <td>0.950509</td>\n",
       "      <td>0.049491</td>\n",
       "    </tr>\n",
       "    <tr>\n",
       "      <th>3</th>\n",
       "      <td>0.000076</td>\n",
       "      <td>0.999924</td>\n",
       "    </tr>\n",
       "    <tr>\n",
       "      <th>4</th>\n",
       "      <td>0.129175</td>\n",
       "      <td>0.870825</td>\n",
       "    </tr>\n",
       "  </tbody>\n",
       "</table>\n",
       "</div>"
      ],
      "text/plain": [
       "          0         1\n",
       "0  0.000108  0.999892\n",
       "1  0.010539  0.989461\n",
       "2  0.950509  0.049491\n",
       "3  0.000076  0.999924\n",
       "4  0.129175  0.870825"
      ]
     },
     "execution_count": 112,
     "metadata": {},
     "output_type": "execute_result"
    }
   ],
   "source": [
    "sample.head()"
   ]
  },
  {
   "cell_type": "code",
   "execution_count": 99,
   "metadata": {},
   "outputs": [],
   "source": [
    "sample.to_excel('sample_lgb.xlsx',index=False)"
   ]
  },
  {
   "cell_type": "code",
   "execution_count": null,
   "metadata": {},
   "outputs": [],
   "source": []
  }
 ],
 "metadata": {
  "kernelspec": {
   "display_name": "Python 3",
   "language": "python",
   "name": "python3"
  },
  "language_info": {
   "codemirror_mode": {
    "name": "ipython",
    "version": 3
   },
   "file_extension": ".py",
   "mimetype": "text/x-python",
   "name": "python",
   "nbconvert_exporter": "python",
   "pygments_lexer": "ipython3",
   "version": "3.7.3"
  }
 },
 "nbformat": 4,
 "nbformat_minor": 2
}
